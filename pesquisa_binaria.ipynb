{
 "cells": [
  {
   "cell_type": "code",
   "execution_count": 11,
   "metadata": {},
   "outputs": [
    {
     "name": "stdout",
     "output_type": "stream",
     "text": [
      "1\n",
      "None\n"
     ]
    }
   ],
   "source": [
    "def pesquisa_binaria(lista, item):\n",
    "    baixo = 0 #baixo e alto acompanham a parte da lista que voce esta procurando\n",
    "    alto = len(lista) - 1\n",
    "    while baixo <= alto: #enquanto ainda nao conseguiu chegar a um unico elemento central...\n",
    "        meio = (baixo + alto) // 2 #continuar procurando no centro.\n",
    "        chute = lista[meio]\n",
    "        if chute == item: #acha o item\n",
    "            return meio\n",
    "        if chute > item: #o valor foi muito alto\n",
    "            alto = meio - 1\n",
    "        else: # o valor foi muito baixo\n",
    "            baixo = meio + 1\n",
    "    return None # o item não existe\n",
    "        \n",
    "minha_lista = [1, 2, 3, 4, 5, 6, 7, 9, 12, 15, 18, 21] #as listas começam em 0.\n",
    "\n",
    "print(pesquisa_binaria(minha_lista, 2))\n",
    "print(pesquisa_binaria(minha_lista, -1))"
   ]
  }
 ],
 "metadata": {
  "kernelspec": {
   "display_name": "Python 3",
   "language": "python",
   "name": "python3"
  },
  "language_info": {
   "codemirror_mode": {
    "name": "ipython",
    "version": 3
   },
   "file_extension": ".py",
   "mimetype": "text/x-python",
   "name": "python",
   "nbconvert_exporter": "python",
   "pygments_lexer": "ipython3",
   "version": "3.11.9"
  }
 },
 "nbformat": 4,
 "nbformat_minor": 2
}
